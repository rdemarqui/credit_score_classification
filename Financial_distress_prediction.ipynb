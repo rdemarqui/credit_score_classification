{
  "cells": [
    {
      "cell_type": "markdown",
      "metadata": {
        "id": "view-in-github",
        "colab_type": "text"
      },
      "source": [
        "<a href=\"https://colab.research.google.com/github/rdemarqui/financial_distress_prediction/blob/main/Financial_distress_prediction.ipynb\" target=\"_parent\"><img src=\"https://colab.research.google.com/assets/colab-badge.svg\" alt=\"Open In Colab\"/></a>"
      ]
    },
    {
      "cell_type": "markdown",
      "metadata": {
        "id": "09xPYRvMK1qj"
      },
      "source": [
        "# Financial Distress Prediction"
      ]
    },
    {
      "cell_type": "markdown",
      "metadata": {
        "id": "ZNIxKljhk1tn"
      },
      "source": [
        "Source: https://www.kaggle.com/competitions/GiveMeSomeCredit/"
      ]
    },
    {
      "cell_type": "code",
      "execution_count": 1,
      "metadata": {
        "id": "5YcLxGRMzd9I",
        "colab": {
          "base_uri": "https://localhost:8080/"
        },
        "outputId": "9e571243-5bd2-48c7-d3d8-50758dbcf189"
      },
      "outputs": [
        {
          "output_type": "stream",
          "name": "stdout",
          "text": [
            "\u001b[?25l     \u001b[90m━━━━━━━━━━━━━━━━━━━━━━━━━━━━━━━━━━━━━━━━\u001b[0m \u001b[32m0.0/100.3 kB\u001b[0m \u001b[31m?\u001b[0m eta \u001b[36m-:--:--\u001b[0m\r\u001b[2K     \u001b[90m━━━━━━━━━━━━━━━━━━━━━━━━━━━━━━━━━━━━━━━\u001b[0m \u001b[32m100.3/100.3 kB\u001b[0m \u001b[31m2.9 MB/s\u001b[0m eta \u001b[36m0:00:00\u001b[0m\n",
            "\u001b[?25h"
          ]
        }
      ],
      "source": [
        "!pip install -q scikit-optimize\n",
        "#!pip install -q shap"
      ]
    },
    {
      "cell_type": "code",
      "execution_count": 2,
      "metadata": {
        "id": "cgHV9TNsKr74"
      },
      "outputs": [],
      "source": [
        "import os\n",
        "import zipfile\n",
        "import pandas as pd\n",
        "import numpy as np\n",
        "import matplotlib.pyplot as plt\n",
        "from sklearn.model_selection import GridSearchCV, RandomizedSearchCV, StratifiedKFold, cross_val_score\n",
        "from sklearn import metrics\n",
        "from skopt import BayesSearchCV\n",
        "from imblearn.over_sampling import SMOTE"
      ]
    },
    {
      "cell_type": "code",
      "execution_count": 3,
      "metadata": {
        "id": "hpX4kfbMcOGf"
      },
      "outputs": [],
      "source": [
        "from sklearn.ensemble import AdaBoostClassifier\n",
        "from sklearn.ensemble import HistGradientBoostingClassifier\n",
        "from sklearn.ensemble import ExtraTreesClassifier\n",
        "from sklearn.ensemble import RandomForestClassifier\n",
        "from sklearn.linear_model import LogisticRegression\n",
        "from sklearn.naive_bayes import GaussianNB\n",
        "from sklearn.naive_bayes import BernoulliNB\n",
        "from sklearn.naive_bayes import MultinomialNB\n",
        "#from sklearn.neural_network import MLPClassifier\n",
        "from sklearn.tree import DecisionTreeClassifier\n",
        "from xgboost import XGBClassifier\n",
        "from lightgbm import LGBMClassifier"
      ]
    },
    {
      "cell_type": "markdown",
      "source": [
        "## Openning Files"
      ],
      "metadata": {
        "id": "WxZt97GaGiTT"
      }
    },
    {
      "cell_type": "code",
      "execution_count": 4,
      "metadata": {
        "id": "p8b0_7BFK0lP"
      },
      "outputs": [],
      "source": [
        "# Getting current working directory\n",
        "current_dir = os.getcwd()"
      ]
    },
    {
      "cell_type": "code",
      "execution_count": 5,
      "metadata": {
        "id": "xSD9yINyMyPd"
      },
      "outputs": [],
      "source": [
        "# Downloading file\n",
        "!wget -q https://github.com/rdemarqui/financial_distress_prediction/raw/main/datasets/GiveMeSomeCredit.zip"
      ]
    },
    {
      "cell_type": "code",
      "execution_count": 6,
      "metadata": {
        "id": "MF7Q-7SZNNsV"
      },
      "outputs": [],
      "source": [
        "# Opening datasets\n",
        "zf = zipfile.ZipFile(os.path.join(current_dir, 'GiveMeSomeCredit.zip'))\n",
        "df_train = pd.read_csv(zf.open('cs-training.csv'), index_col=0, low_memory=False)\n",
        "df_test = pd.read_csv(zf.open('cs-test.csv'), index_col=0, low_memory=False)"
      ]
    },
    {
      "cell_type": "markdown",
      "metadata": {
        "id": "-okzye9NQn-n"
      },
      "source": [
        "## Exploratory Data Analysis (EDA)"
      ]
    },
    {
      "cell_type": "code",
      "execution_count": 7,
      "metadata": {
        "colab": {
          "base_uri": "https://localhost:8080/"
        },
        "id": "EBSfp8ktBgVp",
        "outputId": "2cd55ec2-3522-4e89-bd7f-09800740906e"
      },
      "outputs": [
        {
          "output_type": "execute_result",
          "data": {
            "text/plain": [
              "(150000, 11)"
            ]
          },
          "metadata": {},
          "execution_count": 7
        }
      ],
      "source": [
        "# Checking null values and data types\n",
        "df_train.shape"
      ]
    },
    {
      "cell_type": "code",
      "execution_count": 8,
      "metadata": {
        "colab": {
          "base_uri": "https://localhost:8080/",
          "height": 394
        },
        "id": "DGaCGx9fAuvh",
        "outputId": "06b7e156-f278-4fee-db49-460825463410"
      },
      "outputs": [
        {
          "output_type": "execute_result",
          "data": {
            "text/plain": [
              "                                         count         mean           std  \\\n",
              "SeriousDlqin2yrs                      150000.0     0.066840      0.249746   \n",
              "RevolvingUtilizationOfUnsecuredLines  150000.0     6.048438    249.755371   \n",
              "age                                   150000.0    52.295207     14.771866   \n",
              "NumberOfTime30-59DaysPastDueNotWorse  150000.0     0.421033      4.192781   \n",
              "DebtRatio                             150000.0   353.005076   2037.818523   \n",
              "MonthlyIncome                         120269.0  6670.221237  14384.674215   \n",
              "NumberOfOpenCreditLinesAndLoans       150000.0     8.452760      5.145951   \n",
              "NumberOfTimes90DaysLate               150000.0     0.265973      4.169304   \n",
              "NumberRealEstateLoansOrLines          150000.0     1.018240      1.129771   \n",
              "NumberOfTime60-89DaysPastDueNotWorse  150000.0     0.240387      4.155179   \n",
              "NumberOfDependents                    146076.0     0.757222      1.115086   \n",
              "\n",
              "                                      min          25%          50%  \\\n",
              "SeriousDlqin2yrs                      0.0     0.000000     0.000000   \n",
              "RevolvingUtilizationOfUnsecuredLines  0.0     0.029867     0.154181   \n",
              "age                                   0.0    41.000000    52.000000   \n",
              "NumberOfTime30-59DaysPastDueNotWorse  0.0     0.000000     0.000000   \n",
              "DebtRatio                             0.0     0.175074     0.366508   \n",
              "MonthlyIncome                         0.0  3400.000000  5400.000000   \n",
              "NumberOfOpenCreditLinesAndLoans       0.0     5.000000     8.000000   \n",
              "NumberOfTimes90DaysLate               0.0     0.000000     0.000000   \n",
              "NumberRealEstateLoansOrLines          0.0     0.000000     1.000000   \n",
              "NumberOfTime60-89DaysPastDueNotWorse  0.0     0.000000     0.000000   \n",
              "NumberOfDependents                    0.0     0.000000     0.000000   \n",
              "\n",
              "                                              75%        max  \n",
              "SeriousDlqin2yrs                         0.000000        1.0  \n",
              "RevolvingUtilizationOfUnsecuredLines     0.559046    50708.0  \n",
              "age                                     63.000000      109.0  \n",
              "NumberOfTime30-59DaysPastDueNotWorse     0.000000       98.0  \n",
              "DebtRatio                                0.868254   329664.0  \n",
              "MonthlyIncome                         8249.000000  3008750.0  \n",
              "NumberOfOpenCreditLinesAndLoans         11.000000       58.0  \n",
              "NumberOfTimes90DaysLate                  0.000000       98.0  \n",
              "NumberRealEstateLoansOrLines             2.000000       54.0  \n",
              "NumberOfTime60-89DaysPastDueNotWorse     0.000000       98.0  \n",
              "NumberOfDependents                       1.000000       20.0  "
            ],
            "text/html": [
              "\n",
              "  <div id=\"df-e0880ab5-97fa-4550-8d89-2af918b61ef7\">\n",
              "    <div class=\"colab-df-container\">\n",
              "      <div>\n",
              "<style scoped>\n",
              "    .dataframe tbody tr th:only-of-type {\n",
              "        vertical-align: middle;\n",
              "    }\n",
              "\n",
              "    .dataframe tbody tr th {\n",
              "        vertical-align: top;\n",
              "    }\n",
              "\n",
              "    .dataframe thead th {\n",
              "        text-align: right;\n",
              "    }\n",
              "</style>\n",
              "<table border=\"1\" class=\"dataframe\">\n",
              "  <thead>\n",
              "    <tr style=\"text-align: right;\">\n",
              "      <th></th>\n",
              "      <th>count</th>\n",
              "      <th>mean</th>\n",
              "      <th>std</th>\n",
              "      <th>min</th>\n",
              "      <th>25%</th>\n",
              "      <th>50%</th>\n",
              "      <th>75%</th>\n",
              "      <th>max</th>\n",
              "    </tr>\n",
              "  </thead>\n",
              "  <tbody>\n",
              "    <tr>\n",
              "      <th>SeriousDlqin2yrs</th>\n",
              "      <td>150000.0</td>\n",
              "      <td>0.066840</td>\n",
              "      <td>0.249746</td>\n",
              "      <td>0.0</td>\n",
              "      <td>0.000000</td>\n",
              "      <td>0.000000</td>\n",
              "      <td>0.000000</td>\n",
              "      <td>1.0</td>\n",
              "    </tr>\n",
              "    <tr>\n",
              "      <th>RevolvingUtilizationOfUnsecuredLines</th>\n",
              "      <td>150000.0</td>\n",
              "      <td>6.048438</td>\n",
              "      <td>249.755371</td>\n",
              "      <td>0.0</td>\n",
              "      <td>0.029867</td>\n",
              "      <td>0.154181</td>\n",
              "      <td>0.559046</td>\n",
              "      <td>50708.0</td>\n",
              "    </tr>\n",
              "    <tr>\n",
              "      <th>age</th>\n",
              "      <td>150000.0</td>\n",
              "      <td>52.295207</td>\n",
              "      <td>14.771866</td>\n",
              "      <td>0.0</td>\n",
              "      <td>41.000000</td>\n",
              "      <td>52.000000</td>\n",
              "      <td>63.000000</td>\n",
              "      <td>109.0</td>\n",
              "    </tr>\n",
              "    <tr>\n",
              "      <th>NumberOfTime30-59DaysPastDueNotWorse</th>\n",
              "      <td>150000.0</td>\n",
              "      <td>0.421033</td>\n",
              "      <td>4.192781</td>\n",
              "      <td>0.0</td>\n",
              "      <td>0.000000</td>\n",
              "      <td>0.000000</td>\n",
              "      <td>0.000000</td>\n",
              "      <td>98.0</td>\n",
              "    </tr>\n",
              "    <tr>\n",
              "      <th>DebtRatio</th>\n",
              "      <td>150000.0</td>\n",
              "      <td>353.005076</td>\n",
              "      <td>2037.818523</td>\n",
              "      <td>0.0</td>\n",
              "      <td>0.175074</td>\n",
              "      <td>0.366508</td>\n",
              "      <td>0.868254</td>\n",
              "      <td>329664.0</td>\n",
              "    </tr>\n",
              "    <tr>\n",
              "      <th>MonthlyIncome</th>\n",
              "      <td>120269.0</td>\n",
              "      <td>6670.221237</td>\n",
              "      <td>14384.674215</td>\n",
              "      <td>0.0</td>\n",
              "      <td>3400.000000</td>\n",
              "      <td>5400.000000</td>\n",
              "      <td>8249.000000</td>\n",
              "      <td>3008750.0</td>\n",
              "    </tr>\n",
              "    <tr>\n",
              "      <th>NumberOfOpenCreditLinesAndLoans</th>\n",
              "      <td>150000.0</td>\n",
              "      <td>8.452760</td>\n",
              "      <td>5.145951</td>\n",
              "      <td>0.0</td>\n",
              "      <td>5.000000</td>\n",
              "      <td>8.000000</td>\n",
              "      <td>11.000000</td>\n",
              "      <td>58.0</td>\n",
              "    </tr>\n",
              "    <tr>\n",
              "      <th>NumberOfTimes90DaysLate</th>\n",
              "      <td>150000.0</td>\n",
              "      <td>0.265973</td>\n",
              "      <td>4.169304</td>\n",
              "      <td>0.0</td>\n",
              "      <td>0.000000</td>\n",
              "      <td>0.000000</td>\n",
              "      <td>0.000000</td>\n",
              "      <td>98.0</td>\n",
              "    </tr>\n",
              "    <tr>\n",
              "      <th>NumberRealEstateLoansOrLines</th>\n",
              "      <td>150000.0</td>\n",
              "      <td>1.018240</td>\n",
              "      <td>1.129771</td>\n",
              "      <td>0.0</td>\n",
              "      <td>0.000000</td>\n",
              "      <td>1.000000</td>\n",
              "      <td>2.000000</td>\n",
              "      <td>54.0</td>\n",
              "    </tr>\n",
              "    <tr>\n",
              "      <th>NumberOfTime60-89DaysPastDueNotWorse</th>\n",
              "      <td>150000.0</td>\n",
              "      <td>0.240387</td>\n",
              "      <td>4.155179</td>\n",
              "      <td>0.0</td>\n",
              "      <td>0.000000</td>\n",
              "      <td>0.000000</td>\n",
              "      <td>0.000000</td>\n",
              "      <td>98.0</td>\n",
              "    </tr>\n",
              "    <tr>\n",
              "      <th>NumberOfDependents</th>\n",
              "      <td>146076.0</td>\n",
              "      <td>0.757222</td>\n",
              "      <td>1.115086</td>\n",
              "      <td>0.0</td>\n",
              "      <td>0.000000</td>\n",
              "      <td>0.000000</td>\n",
              "      <td>1.000000</td>\n",
              "      <td>20.0</td>\n",
              "    </tr>\n",
              "  </tbody>\n",
              "</table>\n",
              "</div>\n",
              "      <button class=\"colab-df-convert\" onclick=\"convertToInteractive('df-e0880ab5-97fa-4550-8d89-2af918b61ef7')\"\n",
              "              title=\"Convert this dataframe to an interactive table.\"\n",
              "              style=\"display:none;\">\n",
              "        \n",
              "  <svg xmlns=\"http://www.w3.org/2000/svg\" height=\"24px\"viewBox=\"0 0 24 24\"\n",
              "       width=\"24px\">\n",
              "    <path d=\"M0 0h24v24H0V0z\" fill=\"none\"/>\n",
              "    <path d=\"M18.56 5.44l.94 2.06.94-2.06 2.06-.94-2.06-.94-.94-2.06-.94 2.06-2.06.94zm-11 1L8.5 8.5l.94-2.06 2.06-.94-2.06-.94L8.5 2.5l-.94 2.06-2.06.94zm10 10l.94 2.06.94-2.06 2.06-.94-2.06-.94-.94-2.06-.94 2.06-2.06.94z\"/><path d=\"M17.41 7.96l-1.37-1.37c-.4-.4-.92-.59-1.43-.59-.52 0-1.04.2-1.43.59L10.3 9.45l-7.72 7.72c-.78.78-.78 2.05 0 2.83L4 21.41c.39.39.9.59 1.41.59.51 0 1.02-.2 1.41-.59l7.78-7.78 2.81-2.81c.8-.78.8-2.07 0-2.86zM5.41 20L4 18.59l7.72-7.72 1.47 1.35L5.41 20z\"/>\n",
              "  </svg>\n",
              "      </button>\n",
              "      \n",
              "  <style>\n",
              "    .colab-df-container {\n",
              "      display:flex;\n",
              "      flex-wrap:wrap;\n",
              "      gap: 12px;\n",
              "    }\n",
              "\n",
              "    .colab-df-convert {\n",
              "      background-color: #E8F0FE;\n",
              "      border: none;\n",
              "      border-radius: 50%;\n",
              "      cursor: pointer;\n",
              "      display: none;\n",
              "      fill: #1967D2;\n",
              "      height: 32px;\n",
              "      padding: 0 0 0 0;\n",
              "      width: 32px;\n",
              "    }\n",
              "\n",
              "    .colab-df-convert:hover {\n",
              "      background-color: #E2EBFA;\n",
              "      box-shadow: 0px 1px 2px rgba(60, 64, 67, 0.3), 0px 1px 3px 1px rgba(60, 64, 67, 0.15);\n",
              "      fill: #174EA6;\n",
              "    }\n",
              "\n",
              "    [theme=dark] .colab-df-convert {\n",
              "      background-color: #3B4455;\n",
              "      fill: #D2E3FC;\n",
              "    }\n",
              "\n",
              "    [theme=dark] .colab-df-convert:hover {\n",
              "      background-color: #434B5C;\n",
              "      box-shadow: 0px 1px 3px 1px rgba(0, 0, 0, 0.15);\n",
              "      filter: drop-shadow(0px 1px 2px rgba(0, 0, 0, 0.3));\n",
              "      fill: #FFFFFF;\n",
              "    }\n",
              "  </style>\n",
              "\n",
              "      <script>\n",
              "        const buttonEl =\n",
              "          document.querySelector('#df-e0880ab5-97fa-4550-8d89-2af918b61ef7 button.colab-df-convert');\n",
              "        buttonEl.style.display =\n",
              "          google.colab.kernel.accessAllowed ? 'block' : 'none';\n",
              "\n",
              "        async function convertToInteractive(key) {\n",
              "          const element = document.querySelector('#df-e0880ab5-97fa-4550-8d89-2af918b61ef7');\n",
              "          const dataTable =\n",
              "            await google.colab.kernel.invokeFunction('convertToInteractive',\n",
              "                                                     [key], {});\n",
              "          if (!dataTable) return;\n",
              "\n",
              "          const docLinkHtml = 'Like what you see? Visit the ' +\n",
              "            '<a target=\"_blank\" href=https://colab.research.google.com/notebooks/data_table.ipynb>data table notebook</a>'\n",
              "            + ' to learn more about interactive tables.';\n",
              "          element.innerHTML = '';\n",
              "          dataTable['output_type'] = 'display_data';\n",
              "          await google.colab.output.renderOutput(dataTable, element);\n",
              "          const docLink = document.createElement('div');\n",
              "          docLink.innerHTML = docLinkHtml;\n",
              "          element.appendChild(docLink);\n",
              "        }\n",
              "      </script>\n",
              "    </div>\n",
              "  </div>\n",
              "  "
            ]
          },
          "metadata": {},
          "execution_count": 8
        }
      ],
      "source": [
        "df_train.describe().T"
      ]
    },
    {
      "cell_type": "markdown",
      "metadata": {
        "id": "9O9uCn0ND91b"
      },
      "source": [
        "* Dataset has only numeric features. \n",
        "* Null values on *MonthlyIncome* and *NumberOfDependents*\n",
        "* *Age* has some values filled with 0.\n",
        "\n",
        "Unfortunately few estimators can natively handle missing data. Due to this, we'll fill null values with median, since some features have outliers."
      ]
    },
    {
      "cell_type": "code",
      "execution_count": 9,
      "metadata": {
        "id": "hdF0tMHZKYQh"
      },
      "outputs": [],
      "source": [
        "df_train_final = df_train.copy()\n",
        "\n",
        "fill_MonthlyIncome = df_train_final['MonthlyIncome'].median()\n",
        "fill_NumberOfDependents = df_train_final['NumberOfDependents'].median()\n",
        "\n",
        "df_train_final['MonthlyIncome'].fillna(fill_MonthlyIncome, inplace=True)\n",
        "df_train_final['NumberOfDependents'].fillna(fill_NumberOfDependents, inplace=True)"
      ]
    },
    {
      "cell_type": "code",
      "execution_count": 10,
      "metadata": {
        "id": "YWwEfE5GJ4EJ"
      },
      "outputs": [],
      "source": [
        "# Splitting data\n",
        "X_train = df_train_final.drop(columns=['SeriousDlqin2yrs'])\n",
        "y_train = df_train_final['SeriousDlqin2yrs']"
      ]
    },
    {
      "cell_type": "markdown",
      "metadata": {
        "id": "14cNlM04VN6p"
      },
      "source": [
        "##Training"
      ]
    },
    {
      "cell_type": "markdown",
      "metadata": {
        "id": "FIbiTbUZw-W9"
      },
      "source": [
        "We're going to use cross validation to train all models. In this case we will split in 1/5, where 80% for training and 20% for validation."
      ]
    },
    {
      "cell_type": "code",
      "source": [
        "def cross_validation(model=None, X=None, y=None, n_splits=5, shuffle=True, oversampling=False, random_state=42):\n",
        "  kfold = StratifiedKFold(n_splits=n_splits, shuffle=shuffle, random_state=42)\n",
        "  scores = []\n",
        "\n",
        "  for idx, (idx_train, idx_validation) in enumerate(kfold.split(X, y)):\n",
        "    X_train_split = X.iloc[idx_train, :]\n",
        "    y_train_split = y.iloc[idx_train]\n",
        "\n",
        "    if oversampling:\n",
        "      sm = SMOTE(random_state=random_state)\n",
        "      X_train_split, y_train_split = sm.fit_resample(X_train_split, y_train_split)\n",
        "\n",
        "    model.fit(X_train_split, y_train_split)\n",
        "\n",
        "    X_val_split = X.iloc[idx_validation, :]\n",
        "    y_val_split = y.iloc[idx_validation]\n",
        "\n",
        "    val_predict = model.predict_proba(X_val_split)[:, 1]\n",
        "\n",
        "    split_score = round(metrics.roc_auc_score(y_val_split, val_predict), 6)\n",
        "    scores.append(split_score)\n",
        "\n",
        "  return scores"
      ],
      "metadata": {
        "id": "jdCX7lLIAvUQ"
      },
      "execution_count": 11,
      "outputs": []
    },
    {
      "cell_type": "code",
      "source": [
        "def train_models(all_models, oversampling=None):\n",
        "  all_results = {}\n",
        "  for model in all_models:\n",
        "    model_name = str(model).split('(')[0]\n",
        "    print(f'Training: {model_name}')\n",
        "    result = cross_validation(model, X_train, y_train, oversampling=oversampling)\n",
        "    all_results[model_name] = result\n",
        "\n",
        "  df_results = (pd.DataFrame.from_dict(all_results).T)\n",
        "  df_results['mean'] = df_results.mean(axis=1)\n",
        "  df_results = df_results.sort_values(by=['mean'], ascending=False)\n",
        "  return df_results"
      ],
      "metadata": {
        "id": "5OTYShUN09iO"
      },
      "execution_count": 12,
      "outputs": []
    },
    {
      "cell_type": "markdown",
      "metadata": {
        "id": "s6O_qno9Jm_a"
      },
      "source": [
        "### Choosing Best Model"
      ]
    },
    {
      "cell_type": "markdown",
      "source": [
        "First, we'll try many algorithms to see which one does better."
      ],
      "metadata": {
        "id": "T7s4LqciByJ-"
      }
    },
    {
      "cell_type": "code",
      "source": [
        "# Listing all models\n",
        "all_models = [\n",
        "    AdaBoostClassifier(), HistGradientBoostingClassifier(), ExtraTreesClassifier(), \n",
        "    RandomForestClassifier(), LogisticRegression(max_iter=3000), GaussianNB(),\n",
        "    BernoulliNB(), MultinomialNB(), DecisionTreeClassifier(), \n",
        "    XGBClassifier(), LGBMClassifier()\n",
        "    ]"
      ],
      "metadata": {
        "id": "mNHDXEsLYES5"
      },
      "execution_count": 13,
      "outputs": []
    },
    {
      "cell_type": "markdown",
      "source": [
        "#### Oversampling"
      ],
      "metadata": {
        "id": "9MozcXiVZJm2"
      }
    },
    {
      "cell_type": "code",
      "source": [
        "results_oversampling = train_models(all_models, oversampling=True)"
      ],
      "metadata": {
        "colab": {
          "base_uri": "https://localhost:8080/"
        },
        "id": "vOsY1CTn18WP",
        "outputId": "dfb6e074-3e5e-4f71-f724-640ffb24e41d"
      },
      "execution_count": 14,
      "outputs": [
        {
          "output_type": "stream",
          "name": "stdout",
          "text": [
            "Training: AdaBoostClassifier\n",
            "Training: HistGradientBoostingClassifier\n",
            "Training: ExtraTreesClassifier\n",
            "Training: RandomForestClassifier\n",
            "Training: LogisticRegression\n",
            "Training: GaussianNB\n",
            "Training: BernoulliNB\n",
            "Training: MultinomialNB\n",
            "Training: MLPClassifier\n"
          ]
        },
        {
          "output_type": "stream",
          "name": "stderr",
          "text": [
            "/usr/local/lib/python3.9/dist-packages/sklearn/neural_network/_multilayer_perceptron.py:686: ConvergenceWarning: Stochastic Optimizer: Maximum iterations (200) reached and the optimization hasn't converged yet.\n",
            "  warnings.warn(\n",
            "/usr/local/lib/python3.9/dist-packages/sklearn/neural_network/_multilayer_perceptron.py:693: UserWarning: Training interrupted by user.\n",
            "  warnings.warn(\"Training interrupted by user.\")\n"
          ]
        },
        {
          "output_type": "stream",
          "name": "stdout",
          "text": [
            "Training: DecisionTreeClassifier\n",
            "Training: XGBClassifier\n",
            "Training: LGBMClassifier\n"
          ]
        }
      ]
    },
    {
      "cell_type": "code",
      "source": [
        "# Checking all results using oversampling\n",
        "results_oversampling"
      ],
      "metadata": {
        "colab": {
          "base_uri": "https://localhost:8080/",
          "height": 426
        },
        "id": "jLgdlA1iV5BP",
        "outputId": "7d02b9b4-fcfe-42b1-ae95-33928c4d849c"
      },
      "execution_count": 15,
      "outputs": [
        {
          "output_type": "execute_result",
          "data": {
            "text/plain": [
              "                                       0         1         2         3  \\\n",
              "HistGradientBoostingClassifier  0.829238  0.833541  0.839059  0.828901   \n",
              "LGBMClassifier                  0.827628  0.832265  0.838065  0.828417   \n",
              "ExtraTreesClassifier            0.819170  0.826839  0.831568  0.820145   \n",
              "AdaBoostClassifier              0.816548  0.817743  0.829322  0.816280   \n",
              "RandomForestClassifier          0.813495  0.824882  0.827360  0.819176   \n",
              "XGBClassifier                   0.816699  0.820603  0.823051  0.814220   \n",
              "MLPClassifier                   0.831023  0.816773  0.843732  0.822597   \n",
              "BernoulliNB                     0.784014  0.789299  0.796908  0.779174   \n",
              "LogisticRegression              0.693786  0.813415  0.729233  0.795217   \n",
              "GaussianNB                      0.685544  0.696976  0.682401  0.667848   \n",
              "DecisionTreeClassifier          0.628768  0.636612  0.626805  0.632841   \n",
              "MultinomialNB                   0.755333  0.551972  0.563029  0.548038   \n",
              "\n",
              "                                       4      mean  \n",
              "HistGradientBoostingClassifier  0.832731  0.832694  \n",
              "LGBMClassifier                  0.830837  0.831442  \n",
              "ExtraTreesClassifier            0.826777  0.824900  \n",
              "AdaBoostClassifier              0.826966  0.821372  \n",
              "RandomForestClassifier          0.820460  0.821075  \n",
              "XGBClassifier                   0.814403  0.817795  \n",
              "MLPClassifier                   0.688125  0.800450  \n",
              "BernoulliNB                     0.794267  0.788732  \n",
              "LogisticRegression              0.713678  0.749066  \n",
              "GaussianNB                      0.689921  0.684538  \n",
              "DecisionTreeClassifier          0.632705  0.631546  \n",
              "MultinomialNB                   0.682871  0.620249  "
            ],
            "text/html": [
              "\n",
              "  <div id=\"df-dd19e88a-4385-4cb2-a251-75d801ccd6e5\">\n",
              "    <div class=\"colab-df-container\">\n",
              "      <div>\n",
              "<style scoped>\n",
              "    .dataframe tbody tr th:only-of-type {\n",
              "        vertical-align: middle;\n",
              "    }\n",
              "\n",
              "    .dataframe tbody tr th {\n",
              "        vertical-align: top;\n",
              "    }\n",
              "\n",
              "    .dataframe thead th {\n",
              "        text-align: right;\n",
              "    }\n",
              "</style>\n",
              "<table border=\"1\" class=\"dataframe\">\n",
              "  <thead>\n",
              "    <tr style=\"text-align: right;\">\n",
              "      <th></th>\n",
              "      <th>0</th>\n",
              "      <th>1</th>\n",
              "      <th>2</th>\n",
              "      <th>3</th>\n",
              "      <th>4</th>\n",
              "      <th>mean</th>\n",
              "    </tr>\n",
              "  </thead>\n",
              "  <tbody>\n",
              "    <tr>\n",
              "      <th>HistGradientBoostingClassifier</th>\n",
              "      <td>0.829238</td>\n",
              "      <td>0.833541</td>\n",
              "      <td>0.839059</td>\n",
              "      <td>0.828901</td>\n",
              "      <td>0.832731</td>\n",
              "      <td>0.832694</td>\n",
              "    </tr>\n",
              "    <tr>\n",
              "      <th>LGBMClassifier</th>\n",
              "      <td>0.827628</td>\n",
              "      <td>0.832265</td>\n",
              "      <td>0.838065</td>\n",
              "      <td>0.828417</td>\n",
              "      <td>0.830837</td>\n",
              "      <td>0.831442</td>\n",
              "    </tr>\n",
              "    <tr>\n",
              "      <th>ExtraTreesClassifier</th>\n",
              "      <td>0.819170</td>\n",
              "      <td>0.826839</td>\n",
              "      <td>0.831568</td>\n",
              "      <td>0.820145</td>\n",
              "      <td>0.826777</td>\n",
              "      <td>0.824900</td>\n",
              "    </tr>\n",
              "    <tr>\n",
              "      <th>AdaBoostClassifier</th>\n",
              "      <td>0.816548</td>\n",
              "      <td>0.817743</td>\n",
              "      <td>0.829322</td>\n",
              "      <td>0.816280</td>\n",
              "      <td>0.826966</td>\n",
              "      <td>0.821372</td>\n",
              "    </tr>\n",
              "    <tr>\n",
              "      <th>RandomForestClassifier</th>\n",
              "      <td>0.813495</td>\n",
              "      <td>0.824882</td>\n",
              "      <td>0.827360</td>\n",
              "      <td>0.819176</td>\n",
              "      <td>0.820460</td>\n",
              "      <td>0.821075</td>\n",
              "    </tr>\n",
              "    <tr>\n",
              "      <th>XGBClassifier</th>\n",
              "      <td>0.816699</td>\n",
              "      <td>0.820603</td>\n",
              "      <td>0.823051</td>\n",
              "      <td>0.814220</td>\n",
              "      <td>0.814403</td>\n",
              "      <td>0.817795</td>\n",
              "    </tr>\n",
              "    <tr>\n",
              "      <th>MLPClassifier</th>\n",
              "      <td>0.831023</td>\n",
              "      <td>0.816773</td>\n",
              "      <td>0.843732</td>\n",
              "      <td>0.822597</td>\n",
              "      <td>0.688125</td>\n",
              "      <td>0.800450</td>\n",
              "    </tr>\n",
              "    <tr>\n",
              "      <th>BernoulliNB</th>\n",
              "      <td>0.784014</td>\n",
              "      <td>0.789299</td>\n",
              "      <td>0.796908</td>\n",
              "      <td>0.779174</td>\n",
              "      <td>0.794267</td>\n",
              "      <td>0.788732</td>\n",
              "    </tr>\n",
              "    <tr>\n",
              "      <th>LogisticRegression</th>\n",
              "      <td>0.693786</td>\n",
              "      <td>0.813415</td>\n",
              "      <td>0.729233</td>\n",
              "      <td>0.795217</td>\n",
              "      <td>0.713678</td>\n",
              "      <td>0.749066</td>\n",
              "    </tr>\n",
              "    <tr>\n",
              "      <th>GaussianNB</th>\n",
              "      <td>0.685544</td>\n",
              "      <td>0.696976</td>\n",
              "      <td>0.682401</td>\n",
              "      <td>0.667848</td>\n",
              "      <td>0.689921</td>\n",
              "      <td>0.684538</td>\n",
              "    </tr>\n",
              "    <tr>\n",
              "      <th>DecisionTreeClassifier</th>\n",
              "      <td>0.628768</td>\n",
              "      <td>0.636612</td>\n",
              "      <td>0.626805</td>\n",
              "      <td>0.632841</td>\n",
              "      <td>0.632705</td>\n",
              "      <td>0.631546</td>\n",
              "    </tr>\n",
              "    <tr>\n",
              "      <th>MultinomialNB</th>\n",
              "      <td>0.755333</td>\n",
              "      <td>0.551972</td>\n",
              "      <td>0.563029</td>\n",
              "      <td>0.548038</td>\n",
              "      <td>0.682871</td>\n",
              "      <td>0.620249</td>\n",
              "    </tr>\n",
              "  </tbody>\n",
              "</table>\n",
              "</div>\n",
              "      <button class=\"colab-df-convert\" onclick=\"convertToInteractive('df-dd19e88a-4385-4cb2-a251-75d801ccd6e5')\"\n",
              "              title=\"Convert this dataframe to an interactive table.\"\n",
              "              style=\"display:none;\">\n",
              "        \n",
              "  <svg xmlns=\"http://www.w3.org/2000/svg\" height=\"24px\"viewBox=\"0 0 24 24\"\n",
              "       width=\"24px\">\n",
              "    <path d=\"M0 0h24v24H0V0z\" fill=\"none\"/>\n",
              "    <path d=\"M18.56 5.44l.94 2.06.94-2.06 2.06-.94-2.06-.94-.94-2.06-.94 2.06-2.06.94zm-11 1L8.5 8.5l.94-2.06 2.06-.94-2.06-.94L8.5 2.5l-.94 2.06-2.06.94zm10 10l.94 2.06.94-2.06 2.06-.94-2.06-.94-.94-2.06-.94 2.06-2.06.94z\"/><path d=\"M17.41 7.96l-1.37-1.37c-.4-.4-.92-.59-1.43-.59-.52 0-1.04.2-1.43.59L10.3 9.45l-7.72 7.72c-.78.78-.78 2.05 0 2.83L4 21.41c.39.39.9.59 1.41.59.51 0 1.02-.2 1.41-.59l7.78-7.78 2.81-2.81c.8-.78.8-2.07 0-2.86zM5.41 20L4 18.59l7.72-7.72 1.47 1.35L5.41 20z\"/>\n",
              "  </svg>\n",
              "      </button>\n",
              "      \n",
              "  <style>\n",
              "    .colab-df-container {\n",
              "      display:flex;\n",
              "      flex-wrap:wrap;\n",
              "      gap: 12px;\n",
              "    }\n",
              "\n",
              "    .colab-df-convert {\n",
              "      background-color: #E8F0FE;\n",
              "      border: none;\n",
              "      border-radius: 50%;\n",
              "      cursor: pointer;\n",
              "      display: none;\n",
              "      fill: #1967D2;\n",
              "      height: 32px;\n",
              "      padding: 0 0 0 0;\n",
              "      width: 32px;\n",
              "    }\n",
              "\n",
              "    .colab-df-convert:hover {\n",
              "      background-color: #E2EBFA;\n",
              "      box-shadow: 0px 1px 2px rgba(60, 64, 67, 0.3), 0px 1px 3px 1px rgba(60, 64, 67, 0.15);\n",
              "      fill: #174EA6;\n",
              "    }\n",
              "\n",
              "    [theme=dark] .colab-df-convert {\n",
              "      background-color: #3B4455;\n",
              "      fill: #D2E3FC;\n",
              "    }\n",
              "\n",
              "    [theme=dark] .colab-df-convert:hover {\n",
              "      background-color: #434B5C;\n",
              "      box-shadow: 0px 1px 3px 1px rgba(0, 0, 0, 0.15);\n",
              "      filter: drop-shadow(0px 1px 2px rgba(0, 0, 0, 0.3));\n",
              "      fill: #FFFFFF;\n",
              "    }\n",
              "  </style>\n",
              "\n",
              "      <script>\n",
              "        const buttonEl =\n",
              "          document.querySelector('#df-dd19e88a-4385-4cb2-a251-75d801ccd6e5 button.colab-df-convert');\n",
              "        buttonEl.style.display =\n",
              "          google.colab.kernel.accessAllowed ? 'block' : 'none';\n",
              "\n",
              "        async function convertToInteractive(key) {\n",
              "          const element = document.querySelector('#df-dd19e88a-4385-4cb2-a251-75d801ccd6e5');\n",
              "          const dataTable =\n",
              "            await google.colab.kernel.invokeFunction('convertToInteractive',\n",
              "                                                     [key], {});\n",
              "          if (!dataTable) return;\n",
              "\n",
              "          const docLinkHtml = 'Like what you see? Visit the ' +\n",
              "            '<a target=\"_blank\" href=https://colab.research.google.com/notebooks/data_table.ipynb>data table notebook</a>'\n",
              "            + ' to learn more about interactive tables.';\n",
              "          element.innerHTML = '';\n",
              "          dataTable['output_type'] = 'display_data';\n",
              "          await google.colab.output.renderOutput(dataTable, element);\n",
              "          const docLink = document.createElement('div');\n",
              "          docLink.innerHTML = docLinkHtml;\n",
              "          element.appendChild(docLink);\n",
              "        }\n",
              "      </script>\n",
              "    </div>\n",
              "  </div>\n",
              "  "
            ]
          },
          "metadata": {},
          "execution_count": 15
        }
      ]
    },
    {
      "cell_type": "markdown",
      "source": [
        "#### Stratified"
      ],
      "metadata": {
        "id": "gWCGCj34ZbSD"
      }
    },
    {
      "cell_type": "code",
      "source": [
        "results_stratified = train_models(all_models, oversampling=False)"
      ],
      "metadata": {
        "colab": {
          "base_uri": "https://localhost:8080/"
        },
        "outputId": "445c566f-7ac3-480f-928a-d7c7a659e33f",
        "id": "dkjMaiHwZlrs"
      },
      "execution_count": 20,
      "outputs": [
        {
          "output_type": "stream",
          "name": "stdout",
          "text": [
            "Training: AdaBoostClassifier\n",
            "Training: HistGradientBoostingClassifier\n",
            "Training: ExtraTreesClassifier\n",
            "Training: RandomForestClassifier\n",
            "Training: LogisticRegression\n",
            "Training: GaussianNB\n",
            "Training: BernoulliNB\n",
            "Training: MultinomialNB\n",
            "Training: MLPClassifier\n",
            "Training: DecisionTreeClassifier\n",
            "Training: XGBClassifier\n",
            "Training: LGBMClassifier\n"
          ]
        }
      ]
    },
    {
      "cell_type": "code",
      "source": [
        "# Checking all results using oversampling\n",
        "results_stratified"
      ],
      "metadata": {
        "colab": {
          "base_uri": "https://localhost:8080/",
          "height": 426
        },
        "id": "RpmY-PF1Zlrt",
        "outputId": "14b5bf5a-c958-4702-8773-159199aa2c51"
      },
      "execution_count": 21,
      "outputs": [
        {
          "output_type": "execute_result",
          "data": {
            "text/plain": [
              "                                       0         1         2         3  \\\n",
              "HistGradientBoostingClassifier  0.863049  0.865361  0.868514  0.858810   \n",
              "LGBMClassifier                  0.862495  0.864936  0.869228  0.859360   \n",
              "AdaBoostClassifier              0.858279  0.860829  0.864372  0.853150   \n",
              "XGBClassifier                   0.856590  0.858400  0.864049  0.853959   \n",
              "RandomForestClassifier          0.834806  0.838629  0.843445  0.837904   \n",
              "ExtraTreesClassifier            0.819406  0.822712  0.828066  0.818905   \n",
              "BernoulliNB                     0.793406  0.796862  0.800310  0.782885   \n",
              "GaussianNB                      0.707258  0.711964  0.709642  0.690416   \n",
              "LogisticRegression              0.690640  0.697300  0.694940  0.694456   \n",
              "MLPClassifier                   0.603028  0.765978  0.664957  0.798530   \n",
              "MultinomialNB                   0.730615  0.567083  0.597694  0.557186   \n",
              "DecisionTreeClassifier          0.610324  0.610228  0.616910  0.613260   \n",
              "\n",
              "                                       4      mean  \n",
              "HistGradientBoostingClassifier  0.869454  0.865038  \n",
              "LGBMClassifier                  0.868900  0.864984  \n",
              "AdaBoostClassifier              0.860769  0.859480  \n",
              "XGBClassifier                   0.861678  0.858935  \n",
              "RandomForestClassifier          0.847440  0.840445  \n",
              "ExtraTreesClassifier            0.828658  0.823549  \n",
              "BernoulliNB                     0.805937  0.795880  \n",
              "GaussianNB                      0.707686  0.705393  \n",
              "LogisticRegression              0.702804  0.696028  \n",
              "MLPClassifier                   0.633998  0.693298  \n",
              "MultinomialNB                   0.714243  0.633364  \n",
              "DecisionTreeClassifier          0.616783  0.613501  "
            ],
            "text/html": [
              "\n",
              "  <div id=\"df-f359d578-fce3-4208-a904-fb7c5825fb53\">\n",
              "    <div class=\"colab-df-container\">\n",
              "      <div>\n",
              "<style scoped>\n",
              "    .dataframe tbody tr th:only-of-type {\n",
              "        vertical-align: middle;\n",
              "    }\n",
              "\n",
              "    .dataframe tbody tr th {\n",
              "        vertical-align: top;\n",
              "    }\n",
              "\n",
              "    .dataframe thead th {\n",
              "        text-align: right;\n",
              "    }\n",
              "</style>\n",
              "<table border=\"1\" class=\"dataframe\">\n",
              "  <thead>\n",
              "    <tr style=\"text-align: right;\">\n",
              "      <th></th>\n",
              "      <th>0</th>\n",
              "      <th>1</th>\n",
              "      <th>2</th>\n",
              "      <th>3</th>\n",
              "      <th>4</th>\n",
              "      <th>mean</th>\n",
              "    </tr>\n",
              "  </thead>\n",
              "  <tbody>\n",
              "    <tr>\n",
              "      <th>HistGradientBoostingClassifier</th>\n",
              "      <td>0.863049</td>\n",
              "      <td>0.865361</td>\n",
              "      <td>0.868514</td>\n",
              "      <td>0.858810</td>\n",
              "      <td>0.869454</td>\n",
              "      <td>0.865038</td>\n",
              "    </tr>\n",
              "    <tr>\n",
              "      <th>LGBMClassifier</th>\n",
              "      <td>0.862495</td>\n",
              "      <td>0.864936</td>\n",
              "      <td>0.869228</td>\n",
              "      <td>0.859360</td>\n",
              "      <td>0.868900</td>\n",
              "      <td>0.864984</td>\n",
              "    </tr>\n",
              "    <tr>\n",
              "      <th>AdaBoostClassifier</th>\n",
              "      <td>0.858279</td>\n",
              "      <td>0.860829</td>\n",
              "      <td>0.864372</td>\n",
              "      <td>0.853150</td>\n",
              "      <td>0.860769</td>\n",
              "      <td>0.859480</td>\n",
              "    </tr>\n",
              "    <tr>\n",
              "      <th>XGBClassifier</th>\n",
              "      <td>0.856590</td>\n",
              "      <td>0.858400</td>\n",
              "      <td>0.864049</td>\n",
              "      <td>0.853959</td>\n",
              "      <td>0.861678</td>\n",
              "      <td>0.858935</td>\n",
              "    </tr>\n",
              "    <tr>\n",
              "      <th>RandomForestClassifier</th>\n",
              "      <td>0.834806</td>\n",
              "      <td>0.838629</td>\n",
              "      <td>0.843445</td>\n",
              "      <td>0.837904</td>\n",
              "      <td>0.847440</td>\n",
              "      <td>0.840445</td>\n",
              "    </tr>\n",
              "    <tr>\n",
              "      <th>ExtraTreesClassifier</th>\n",
              "      <td>0.819406</td>\n",
              "      <td>0.822712</td>\n",
              "      <td>0.828066</td>\n",
              "      <td>0.818905</td>\n",
              "      <td>0.828658</td>\n",
              "      <td>0.823549</td>\n",
              "    </tr>\n",
              "    <tr>\n",
              "      <th>BernoulliNB</th>\n",
              "      <td>0.793406</td>\n",
              "      <td>0.796862</td>\n",
              "      <td>0.800310</td>\n",
              "      <td>0.782885</td>\n",
              "      <td>0.805937</td>\n",
              "      <td>0.795880</td>\n",
              "    </tr>\n",
              "    <tr>\n",
              "      <th>GaussianNB</th>\n",
              "      <td>0.707258</td>\n",
              "      <td>0.711964</td>\n",
              "      <td>0.709642</td>\n",
              "      <td>0.690416</td>\n",
              "      <td>0.707686</td>\n",
              "      <td>0.705393</td>\n",
              "    </tr>\n",
              "    <tr>\n",
              "      <th>LogisticRegression</th>\n",
              "      <td>0.690640</td>\n",
              "      <td>0.697300</td>\n",
              "      <td>0.694940</td>\n",
              "      <td>0.694456</td>\n",
              "      <td>0.702804</td>\n",
              "      <td>0.696028</td>\n",
              "    </tr>\n",
              "    <tr>\n",
              "      <th>MLPClassifier</th>\n",
              "      <td>0.603028</td>\n",
              "      <td>0.765978</td>\n",
              "      <td>0.664957</td>\n",
              "      <td>0.798530</td>\n",
              "      <td>0.633998</td>\n",
              "      <td>0.693298</td>\n",
              "    </tr>\n",
              "    <tr>\n",
              "      <th>MultinomialNB</th>\n",
              "      <td>0.730615</td>\n",
              "      <td>0.567083</td>\n",
              "      <td>0.597694</td>\n",
              "      <td>0.557186</td>\n",
              "      <td>0.714243</td>\n",
              "      <td>0.633364</td>\n",
              "    </tr>\n",
              "    <tr>\n",
              "      <th>DecisionTreeClassifier</th>\n",
              "      <td>0.610324</td>\n",
              "      <td>0.610228</td>\n",
              "      <td>0.616910</td>\n",
              "      <td>0.613260</td>\n",
              "      <td>0.616783</td>\n",
              "      <td>0.613501</td>\n",
              "    </tr>\n",
              "  </tbody>\n",
              "</table>\n",
              "</div>\n",
              "      <button class=\"colab-df-convert\" onclick=\"convertToInteractive('df-f359d578-fce3-4208-a904-fb7c5825fb53')\"\n",
              "              title=\"Convert this dataframe to an interactive table.\"\n",
              "              style=\"display:none;\">\n",
              "        \n",
              "  <svg xmlns=\"http://www.w3.org/2000/svg\" height=\"24px\"viewBox=\"0 0 24 24\"\n",
              "       width=\"24px\">\n",
              "    <path d=\"M0 0h24v24H0V0z\" fill=\"none\"/>\n",
              "    <path d=\"M18.56 5.44l.94 2.06.94-2.06 2.06-.94-2.06-.94-.94-2.06-.94 2.06-2.06.94zm-11 1L8.5 8.5l.94-2.06 2.06-.94-2.06-.94L8.5 2.5l-.94 2.06-2.06.94zm10 10l.94 2.06.94-2.06 2.06-.94-2.06-.94-.94-2.06-.94 2.06-2.06.94z\"/><path d=\"M17.41 7.96l-1.37-1.37c-.4-.4-.92-.59-1.43-.59-.52 0-1.04.2-1.43.59L10.3 9.45l-7.72 7.72c-.78.78-.78 2.05 0 2.83L4 21.41c.39.39.9.59 1.41.59.51 0 1.02-.2 1.41-.59l7.78-7.78 2.81-2.81c.8-.78.8-2.07 0-2.86zM5.41 20L4 18.59l7.72-7.72 1.47 1.35L5.41 20z\"/>\n",
              "  </svg>\n",
              "      </button>\n",
              "      \n",
              "  <style>\n",
              "    .colab-df-container {\n",
              "      display:flex;\n",
              "      flex-wrap:wrap;\n",
              "      gap: 12px;\n",
              "    }\n",
              "\n",
              "    .colab-df-convert {\n",
              "      background-color: #E8F0FE;\n",
              "      border: none;\n",
              "      border-radius: 50%;\n",
              "      cursor: pointer;\n",
              "      display: none;\n",
              "      fill: #1967D2;\n",
              "      height: 32px;\n",
              "      padding: 0 0 0 0;\n",
              "      width: 32px;\n",
              "    }\n",
              "\n",
              "    .colab-df-convert:hover {\n",
              "      background-color: #E2EBFA;\n",
              "      box-shadow: 0px 1px 2px rgba(60, 64, 67, 0.3), 0px 1px 3px 1px rgba(60, 64, 67, 0.15);\n",
              "      fill: #174EA6;\n",
              "    }\n",
              "\n",
              "    [theme=dark] .colab-df-convert {\n",
              "      background-color: #3B4455;\n",
              "      fill: #D2E3FC;\n",
              "    }\n",
              "\n",
              "    [theme=dark] .colab-df-convert:hover {\n",
              "      background-color: #434B5C;\n",
              "      box-shadow: 0px 1px 3px 1px rgba(0, 0, 0, 0.15);\n",
              "      filter: drop-shadow(0px 1px 2px rgba(0, 0, 0, 0.3));\n",
              "      fill: #FFFFFF;\n",
              "    }\n",
              "  </style>\n",
              "\n",
              "      <script>\n",
              "        const buttonEl =\n",
              "          document.querySelector('#df-f359d578-fce3-4208-a904-fb7c5825fb53 button.colab-df-convert');\n",
              "        buttonEl.style.display =\n",
              "          google.colab.kernel.accessAllowed ? 'block' : 'none';\n",
              "\n",
              "        async function convertToInteractive(key) {\n",
              "          const element = document.querySelector('#df-f359d578-fce3-4208-a904-fb7c5825fb53');\n",
              "          const dataTable =\n",
              "            await google.colab.kernel.invokeFunction('convertToInteractive',\n",
              "                                                     [key], {});\n",
              "          if (!dataTable) return;\n",
              "\n",
              "          const docLinkHtml = 'Like what you see? Visit the ' +\n",
              "            '<a target=\"_blank\" href=https://colab.research.google.com/notebooks/data_table.ipynb>data table notebook</a>'\n",
              "            + ' to learn more about interactive tables.';\n",
              "          element.innerHTML = '';\n",
              "          dataTable['output_type'] = 'display_data';\n",
              "          await google.colab.output.renderOutput(dataTable, element);\n",
              "          const docLink = document.createElement('div');\n",
              "          docLink.innerHTML = docLinkHtml;\n",
              "          element.appendChild(docLink);\n",
              "        }\n",
              "      </script>\n",
              "    </div>\n",
              "  </div>\n",
              "  "
            ]
          },
          "metadata": {},
          "execution_count": 21
        }
      ]
    },
    {
      "cell_type": "markdown",
      "source": [
        "#### Comparing Results"
      ],
      "metadata": {
        "id": "hOf-2_ODg-xP"
      }
    },
    {
      "cell_type": "code",
      "source": [
        "df_compare = pd.DataFrame(results_oversampling['mean']).rename(columns={'mean':'mean_over'})\n",
        "df_compare = df_compare.join(results_stratified['mean'])\n",
        "df_compare = df_compare.sort_values(by=['mean'], ascending=True)\n",
        "ax = df_compare.plot.barh()"
      ],
      "metadata": {
        "colab": {
          "base_uri": "https://localhost:8080/",
          "height": 430
        },
        "id": "kA_lDad-g8Ke",
        "outputId": "c891b38d-56c6-484b-bed8-5072c0c07b76"
      },
      "execution_count": 22,
      "outputs": [
        {
          "output_type": "display_data",
          "data": {
            "text/plain": [
              "<Figure size 640x480 with 1 Axes>"
            ],
            "image/png": "[encoded data removed]"
          },
          "metadata": {}
        }
      ]
    },
    {
      "cell_type": "code",
      "source": [
        "df_compare = df_compare.sort_values(by=['mean'], ascending=False)\n",
        "df_compare['difference'] = df_compare['mean_over'] - df_compare['mean']\n",
        "df_compare"
      ],
      "metadata": {
        "colab": {
          "base_uri": "https://localhost:8080/",
          "height": 426
        },
        "id": "pbzzrDW2v-LR",
        "outputId": "35222f6e-07a0-4913-ad5a-b2ca4c23521e"
      },
      "execution_count": 23,
      "outputs": [
        {
          "output_type": "execute_result",
          "data": {
            "text/plain": [
              "                                mean_over      mean  difference\n",
              "HistGradientBoostingClassifier   0.832694  0.865038   -0.032344\n",
              "LGBMClassifier                   0.831442  0.864984   -0.033541\n",
              "AdaBoostClassifier               0.821372  0.859480   -0.038108\n",
              "XGBClassifier                    0.817795  0.858935   -0.041140\n",
              "RandomForestClassifier           0.821075  0.840445   -0.019370\n",
              "ExtraTreesClassifier             0.824900  0.823549    0.001350\n",
              "BernoulliNB                      0.788732  0.795880   -0.007148\n",
              "GaussianNB                       0.684538  0.705393   -0.020855\n",
              "LogisticRegression               0.749066  0.696028    0.053038\n",
              "MLPClassifier                    0.800450  0.693298    0.107152\n",
              "MultinomialNB                    0.620249  0.633364   -0.013116\n",
              "DecisionTreeClassifier           0.631546  0.613501    0.018045"
            ],
            "text/html": [
              "\n",
              "  <div id=\"df-2019b6ff-c75d-4e34-a6f1-7dc956d91dbd\">\n",
              "    <div class=\"colab-df-container\">\n",
              "      <div>\n",
              "<style scoped>\n",
              "    .dataframe tbody tr th:only-of-type {\n",
              "        vertical-align: middle;\n",
              "    }\n",
              "\n",
              "    .dataframe tbody tr th {\n",
              "        vertical-align: top;\n",
              "    }\n",
              "\n",
              "    .dataframe thead th {\n",
              "        text-align: right;\n",
              "    }\n",
              "</style>\n",
              "<table border=\"1\" class=\"dataframe\">\n",
              "  <thead>\n",
              "    <tr style=\"text-align: right;\">\n",
              "      <th></th>\n",
              "      <th>mean_over</th>\n",
              "      <th>mean</th>\n",
              "      <th>difference</th>\n",
              "    </tr>\n",
              "  </thead>\n",
              "  <tbody>\n",
              "    <tr>\n",
              "      <th>HistGradientBoostingClassifier</th>\n",
              "      <td>0.832694</td>\n",
              "      <td>0.865038</td>\n",
              "      <td>-0.032344</td>\n",
              "    </tr>\n",
              "    <tr>\n",
              "      <th>LGBMClassifier</th>\n",
              "      <td>0.831442</td>\n",
              "      <td>0.864984</td>\n",
              "      <td>-0.033541</td>\n",
              "    </tr>\n",
              "    <tr>\n",
              "      <th>AdaBoostClassifier</th>\n",
              "      <td>0.821372</td>\n",
              "      <td>0.859480</td>\n",
              "      <td>-0.038108</td>\n",
              "    </tr>\n",
              "    <tr>\n",
              "      <th>XGBClassifier</th>\n",
              "      <td>0.817795</td>\n",
              "      <td>0.858935</td>\n",
              "      <td>-0.041140</td>\n",
              "    </tr>\n",
              "    <tr>\n",
              "      <th>RandomForestClassifier</th>\n",
              "      <td>0.821075</td>\n",
              "      <td>0.840445</td>\n",
              "      <td>-0.019370</td>\n",
              "    </tr>\n",
              "    <tr>\n",
              "      <th>ExtraTreesClassifier</th>\n",
              "      <td>0.824900</td>\n",
              "      <td>0.823549</td>\n",
              "      <td>0.001350</td>\n",
              "    </tr>\n",
              "    <tr>\n",
              "      <th>BernoulliNB</th>\n",
              "      <td>0.788732</td>\n",
              "      <td>0.795880</td>\n",
              "      <td>-0.007148</td>\n",
              "    </tr>\n",
              "    <tr>\n",
              "      <th>GaussianNB</th>\n",
              "      <td>0.684538</td>\n",
              "      <td>0.705393</td>\n",
              "      <td>-0.020855</td>\n",
              "    </tr>\n",
              "    <tr>\n",
              "      <th>LogisticRegression</th>\n",
              "      <td>0.749066</td>\n",
              "      <td>0.696028</td>\n",
              "      <td>0.053038</td>\n",
              "    </tr>\n",
              "    <tr>\n",
              "      <th>MLPClassifier</th>\n",
              "      <td>0.800450</td>\n",
              "      <td>0.693298</td>\n",
              "      <td>0.107152</td>\n",
              "    </tr>\n",
              "    <tr>\n",
              "      <th>MultinomialNB</th>\n",
              "      <td>0.620249</td>\n",
              "      <td>0.633364</td>\n",
              "      <td>-0.013116</td>\n",
              "    </tr>\n",
              "    <tr>\n",
              "      <th>DecisionTreeClassifier</th>\n",
              "      <td>0.631546</td>\n",
              "      <td>0.613501</td>\n",
              "      <td>0.018045</td>\n",
              "    </tr>\n",
              "  </tbody>\n",
              "</table>\n",
              "</div>\n",
              "      <button class=\"colab-df-convert\" onclick=\"convertToInteractive('df-2019b6ff-c75d-4e34-a6f1-7dc956d91dbd')\"\n",
              "              title=\"Convert this dataframe to an interactive table.\"\n",
              "              style=\"display:none;\">\n",
              "        \n",
              "  <svg xmlns=\"http://www.w3.org/2000/svg\" height=\"24px\"viewBox=\"0 0 24 24\"\n",
              "       width=\"24px\">\n",
              "    <path d=\"M0 0h24v24H0V0z\" fill=\"none\"/>\n",
              "    <path d=\"M18.56 5.44l.94 2.06.94-2.06 2.06-.94-2.06-.94-.94-2.06-.94 2.06-2.06.94zm-11 1L8.5 8.5l.94-2.06 2.06-.94-2.06-.94L8.5 2.5l-.94 2.06-2.06.94zm10 10l.94 2.06.94-2.06 2.06-.94-2.06-.94-.94-2.06-.94 2.06-2.06.94z\"/><path d=\"M17.41 7.96l-1.37-1.37c-.4-.4-.92-.59-1.43-.59-.52 0-1.04.2-1.43.59L10.3 9.45l-7.72 7.72c-.78.78-.78 2.05 0 2.83L4 21.41c.39.39.9.59 1.41.59.51 0 1.02-.2 1.41-.59l7.78-7.78 2.81-2.81c.8-.78.8-2.07 0-2.86zM5.41 20L4 18.59l7.72-7.72 1.47 1.35L5.41 20z\"/>\n",
              "  </svg>\n",
              "      </button>\n",
              "      \n",
              "  <style>\n",
              "    .colab-df-container {\n",
              "      display:flex;\n",
              "      flex-wrap:wrap;\n",
              "      gap: 12px;\n",
              "    }\n",
              "\n",
              "    .colab-df-convert {\n",
              "      background-color: #E8F0FE;\n",
              "      border: none;\n",
              "      border-radius: 50%;\n",
              "      cursor: pointer;\n",
              "      display: none;\n",
              "      fill: #1967D2;\n",
              "      height: 32px;\n",
              "      padding: 0 0 0 0;\n",
              "      width: 32px;\n",
              "    }\n",
              "\n",
              "    .colab-df-convert:hover {\n",
              "      background-color: #E2EBFA;\n",
              "      box-shadow: 0px 1px 2px rgba(60, 64, 67, 0.3), 0px 1px 3px 1px rgba(60, 64, 67, 0.15);\n",
              "      fill: #174EA6;\n",
              "    }\n",
              "\n",
              "    [theme=dark] .colab-df-convert {\n",
              "      background-color: #3B4455;\n",
              "      fill: #D2E3FC;\n",
              "    }\n",
              "\n",
              "    [theme=dark] .colab-df-convert:hover {\n",
              "      background-color: #434B5C;\n",
              "      box-shadow: 0px 1px 3px 1px rgba(0, 0, 0, 0.15);\n",
              "      filter: drop-shadow(0px 1px 2px rgba(0, 0, 0, 0.3));\n",
              "      fill: #FFFFFF;\n",
              "    }\n",
              "  </style>\n",
              "\n",
              "      <script>\n",
              "        const buttonEl =\n",
              "          document.querySelector('#df-2019b6ff-c75d-4e34-a6f1-7dc956d91dbd button.colab-df-convert');\n",
              "        buttonEl.style.display =\n",
              "          google.colab.kernel.accessAllowed ? 'block' : 'none';\n",
              "\n",
              "        async function convertToInteractive(key) {\n",
              "          const element = document.querySelector('#df-2019b6ff-c75d-4e34-a6f1-7dc956d91dbd');\n",
              "          const dataTable =\n",
              "            await google.colab.kernel.invokeFunction('convertToInteractive',\n",
              "                                                     [key], {});\n",
              "          if (!dataTable) return;\n",
              "\n",
              "          const docLinkHtml = 'Like what you see? Visit the ' +\n",
              "            '<a target=\"_blank\" href=https://colab.research.google.com/notebooks/data_table.ipynb>data table notebook</a>'\n",
              "            + ' to learn more about interactive tables.';\n",
              "          element.innerHTML = '';\n",
              "          dataTable['output_type'] = 'display_data';\n",
              "          await google.colab.output.renderOutput(dataTable, element);\n",
              "          const docLink = document.createElement('div');\n",
              "          docLink.innerHTML = docLinkHtml;\n",
              "          element.appendChild(docLink);\n",
              "        }\n",
              "      </script>\n",
              "    </div>\n",
              "  </div>\n",
              "  "
            ]
          },
          "metadata": {},
          "execution_count": 23
        }
      ]
    },
    {
      "cell_type": "markdown",
      "source": [
        "As we can see, oversampling made more harm than good in most of our models.\n",
        "\n",
        "The best result was achieved by **HistGradientBoostingClassifier**. Let's fine tuning it's parameters then.\n",
        "\n",
        "https://scikit-learn.org/stable/modules/generated/sklearn.ensemble.HistGradientBoostingClassifier.html"
      ],
      "metadata": {
        "id": "qxSdl-70xlRt"
      }
    },
    {
      "cell_type": "markdown",
      "metadata": {
        "id": "mhY8D5b-yfwX"
      },
      "source": [
        "### Hyperparameter Tuning"
      ]
    },
    {
      "cell_type": "markdown",
      "source": [
        "Since we're no longer using oversampling, we can perform optimization directly with cross_validation."
      ],
      "metadata": {
        "id": "MXW2QBKLoBdl"
      }
    },
    {
      "cell_type": "code",
      "execution_count": 24,
      "metadata": {
        "id": "D5BygeQvw5ZF"
      },
      "outputs": [],
      "source": [
        "def param_opt(model, params, X, y, opt_method='', n_iter=10, score='roc_auc', n_splits=5, shuffle=False, n_jobs=4): \n",
        "  \"\"\"\n",
        "  Function to optimize algorithm hyperparameters\n",
        "     If opt_method = 'Grid' then all combinations of hyperparameters will be tested for GridSearchCV\n",
        "     If opt_method = 'Random', 10 hyperparameters will be tested randomly\n",
        "     If opt_method = 'Bayes', 10 hyperparameters will be randomly tested and then Bayesian optimization will be performed (default)\n",
        "  \"\"\"\n",
        "\n",
        "  # Defining kfold\n",
        "  if shuffle == False:\n",
        "    val_random = None\n",
        "  kfold = StratifiedKFold(n_splits=n_splits, shuffle=shuffle, random_state=val_random)\n",
        "\n",
        "  if opt_method.upper() == 'GRID':\n",
        "    grid = GridSearchCV(model, params, cv=kfold, n_jobs=n_jobs, scoring=score)\n",
        "  elif opt_method.upper() == 'RANDOM':\n",
        "    grid = RandomizedSearchCV(model, params, cv=kfold, n_iter=n_iter, n_jobs=n_jobs, random_state=val_random, scoring=score)\n",
        "  elif opt_method.upper() == 'BAYES':\n",
        "    # Optimizers['GP', 'RF', 'ET', 'GBRT']: https://scikit-optimize.github.io/stable/modules/generated/skopt.Optimizer.html#skopt.Optimizer\n",
        "    grid = BayesSearchCV(model, params, cv=kfold, n_iter=n_iter, n_jobs=n_jobs, optimizer_kwargs={'base_estimator':'GP'}, random_state=val_random, scoring=score)\n",
        "  \n",
        "  # Training model\n",
        "  grid.fit(X, y)\n",
        "\n",
        "  # Best hiperparameters\n",
        "  best_params = dict(grid.best_params_)\n",
        "  print(\"Best params:\", best_params)\n",
        "  \n",
        "  # Best score\n",
        "  best_score = grid.best_score_\n",
        "  print(f\"Best score({score}): {best_score:.5}\\n\")\n",
        "\n",
        "  return best_params"
      ]
    },
    {
      "cell_type": "code",
      "execution_count": 25,
      "metadata": {
        "id": "meORbADo0zrU",
        "colab": {
          "base_uri": "https://localhost:8080/"
        },
        "outputId": "a21e284b-85ef-41f1-a655-69f4b9868baa"
      },
      "outputs": [
        {
          "output_type": "stream",
          "name": "stdout",
          "text": [
            "Possible matches: 14000\n",
            "\n"
          ]
        }
      ],
      "source": [
        "params = {}\n",
        "\n",
        "params['learning_rate'] = [0.001, 0.01, 0.1, 0.3, 0.5]   # (default=0.3)\n",
        "params['max_iter'] = [50, 100, 150, 200, 300]    # (default=100)\n",
        "params['max_leaf_nodes'] = [10, 20, 31, 50]    # (default=31)\n",
        "params['max_depth'] = [None, 3, 5, 6, 7]    # (default=None)\n",
        "params['min_samples_leaf'] = [10, 20, 30, 50]    # (default=20)\n",
        "params['l2_regularization'] = [0, 0.001, 0.01, 0.1, 0.3, 0.5, 1]    # (default=0)\n",
        "\n",
        "n_comb = np.prod([len(params[key]) for key in params.keys()])\n",
        "print(f'Possible matches: {n_comb}\\n')"
      ]
    },
    {
      "cell_type": "code",
      "source": [
        "# Tuning hyperparameters\n",
        "best_param = param_opt(model=HistGradientBoostingClassifier(), params=params,\n",
        "                       X=X_train, y=y_train, opt_method='random',\n",
        "                       score='roc_auc', n_iter=50, n_splits=5)"
      ],
      "metadata": {
        "colab": {
          "base_uri": "https://localhost:8080/"
        },
        "id": "sk8eFKa19hA4",
        "outputId": "f4743d54-afa6-4041-fb2b-a33c6b949f02"
      },
      "execution_count": 26,
      "outputs": [
        {
          "output_type": "stream",
          "name": "stdout",
          "text": [
            "Best params: {'min_samples_leaf': 10, 'max_leaf_nodes': 20, 'max_iter': 200, 'max_depth': 5, 'learning_rate': 0.1, 'l2_regularization': 0.01}\n",
            "Best score(roc_auc): 0.86531\n",
            "\n"
          ]
        }
      ]
    },
    {
      "cell_type": "code",
      "source": [
        "best_param"
      ],
      "metadata": {
        "colab": {
          "base_uri": "https://localhost:8080/"
        },
        "id": "4kdfg8ZRJnnz",
        "outputId": "e8cb1a44-826d-4f84-a592-1454c9a1ec61"
      },
      "execution_count": 27,
      "outputs": [
        {
          "output_type": "execute_result",
          "data": {
            "text/plain": [
              "{'min_samples_leaf': 10,\n",
              " 'max_leaf_nodes': 20,\n",
              " 'max_iter': 200,\n",
              " 'max_depth': 5,\n",
              " 'learning_rate': 0.1,\n",
              " 'l2_regularization': 0.01}"
            ]
          },
          "metadata": {},
          "execution_count": 27
        }
      ]
    },
    {
      "cell_type": "markdown",
      "source": [
        "We have a tinny improvement compared with vanilla model, but it's better than nothing."
      ],
      "metadata": {
        "id": "SqdZeaJWF2bC"
      }
    },
    {
      "cell_type": "markdown",
      "metadata": {
        "id": "Ivp_5DMpVGYR"
      },
      "source": [
        "## Testing"
      ]
    },
    {
      "cell_type": "markdown",
      "source": [
        "As we're working with a kaggle challenge dataset, the test dataset don't have  labels. To verify the performance achieved by the model, we'll have to upload the prediction directly to the platform."
      ],
      "metadata": {
        "id": "MxdAAEtxFjtD"
      }
    },
    {
      "cell_type": "code",
      "execution_count": 28,
      "metadata": {
        "id": "g0fnpsjoHjoK"
      },
      "outputs": [],
      "source": [
        "# Filling null values with median of df_train\n",
        "X_test = df_test.drop(columns=['SeriousDlqin2yrs'])\n",
        "X_test['MonthlyIncome'].fillna(fill_MonthlyIncome, inplace=True)\n",
        "X_test['NumberOfDependents'].fillna(fill_NumberOfDependents, inplace=True)"
      ]
    },
    {
      "cell_type": "code",
      "source": [
        "X_test.head()"
      ],
      "metadata": {
        "colab": {
          "base_uri": "https://localhost:8080/",
          "height": 288
        },
        "id": "qdQDPdkRKkdF",
        "outputId": "13249eb4-2dcc-4d44-e6f3-4a672770d275"
      },
      "execution_count": 29,
      "outputs": [
        {
          "output_type": "execute_result",
          "data": {
            "text/plain": [
              "   RevolvingUtilizationOfUnsecuredLines  age  \\\n",
              "1                              0.885519   43   \n",
              "2                              0.463295   57   \n",
              "3                              0.043275   59   \n",
              "4                              0.280308   38   \n",
              "5                              1.000000   27   \n",
              "\n",
              "   NumberOfTime30-59DaysPastDueNotWorse  DebtRatio  MonthlyIncome  \\\n",
              "1                                     0   0.177513         5700.0   \n",
              "2                                     0   0.527237         9141.0   \n",
              "3                                     0   0.687648         5083.0   \n",
              "4                                     1   0.925961         3200.0   \n",
              "5                                     0   0.019917         3865.0   \n",
              "\n",
              "   NumberOfOpenCreditLinesAndLoans  NumberOfTimes90DaysLate  \\\n",
              "1                                4                        0   \n",
              "2                               15                        0   \n",
              "3                               12                        0   \n",
              "4                                7                        0   \n",
              "5                                4                        0   \n",
              "\n",
              "   NumberRealEstateLoansOrLines  NumberOfTime60-89DaysPastDueNotWorse  \\\n",
              "1                             0                                     0   \n",
              "2                             4                                     0   \n",
              "3                             1                                     0   \n",
              "4                             2                                     0   \n",
              "5                             0                                     0   \n",
              "\n",
              "   NumberOfDependents  \n",
              "1                 0.0  \n",
              "2                 2.0  \n",
              "3                 2.0  \n",
              "4                 0.0  \n",
              "5                 1.0  "
            ],
            "text/html": [
              "\n",
              "  <div id=\"df-0b6edcea-1962-40da-8f98-4db39aa5cf6a\">\n",
              "    <div class=\"colab-df-container\">\n",
              "      <div>\n",
              "<style scoped>\n",
              "    .dataframe tbody tr th:only-of-type {\n",
              "        vertical-align: middle;\n",
              "    }\n",
              "\n",
              "    .dataframe tbody tr th {\n",
              "        vertical-align: top;\n",
              "    }\n",
              "\n",
              "    .dataframe thead th {\n",
              "        text-align: right;\n",
              "    }\n",
              "</style>\n",
              "<table border=\"1\" class=\"dataframe\">\n",
              "  <thead>\n",
              "    <tr style=\"text-align: right;\">\n",
              "      <th></th>\n",
              "      <th>RevolvingUtilizationOfUnsecuredLines</th>\n",
              "      <th>age</th>\n",
              "      <th>NumberOfTime30-59DaysPastDueNotWorse</th>\n",
              "      <th>DebtRatio</th>\n",
              "      <th>MonthlyIncome</th>\n",
              "      <th>NumberOfOpenCreditLinesAndLoans</th>\n",
              "      <th>NumberOfTimes90DaysLate</th>\n",
              "      <th>NumberRealEstateLoansOrLines</th>\n",
              "      <th>NumberOfTime60-89DaysPastDueNotWorse</th>\n",
              "      <th>NumberOfDependents</th>\n",
              "    </tr>\n",
              "  </thead>\n",
              "  <tbody>\n",
              "    <tr>\n",
              "      <th>1</th>\n",
              "      <td>0.885519</td>\n",
              "      <td>43</td>\n",
              "      <td>0</td>\n",
              "      <td>0.177513</td>\n",
              "      <td>5700.0</td>\n",
              "      <td>4</td>\n",
              "      <td>0</td>\n",
              "      <td>0</td>\n",
              "      <td>0</td>\n",
              "      <td>0.0</td>\n",
              "    </tr>\n",
              "    <tr>\n",
              "      <th>2</th>\n",
              "      <td>0.463295</td>\n",
              "      <td>57</td>\n",
              "      <td>0</td>\n",
              "      <td>0.527237</td>\n",
              "      <td>9141.0</td>\n",
              "      <td>15</td>\n",
              "      <td>0</td>\n",
              "      <td>4</td>\n",
              "      <td>0</td>\n",
              "      <td>2.0</td>\n",
              "    </tr>\n",
              "    <tr>\n",
              "      <th>3</th>\n",
              "      <td>0.043275</td>\n",
              "      <td>59</td>\n",
              "      <td>0</td>\n",
              "      <td>0.687648</td>\n",
              "      <td>5083.0</td>\n",
              "      <td>12</td>\n",
              "      <td>0</td>\n",
              "      <td>1</td>\n",
              "      <td>0</td>\n",
              "      <td>2.0</td>\n",
              "    </tr>\n",
              "    <tr>\n",
              "      <th>4</th>\n",
              "      <td>0.280308</td>\n",
              "      <td>38</td>\n",
              "      <td>1</td>\n",
              "      <td>0.925961</td>\n",
              "      <td>3200.0</td>\n",
              "      <td>7</td>\n",
              "      <td>0</td>\n",
              "      <td>2</td>\n",
              "      <td>0</td>\n",
              "      <td>0.0</td>\n",
              "    </tr>\n",
              "    <tr>\n",
              "      <th>5</th>\n",
              "      <td>1.000000</td>\n",
              "      <td>27</td>\n",
              "      <td>0</td>\n",
              "      <td>0.019917</td>\n",
              "      <td>3865.0</td>\n",
              "      <td>4</td>\n",
              "      <td>0</td>\n",
              "      <td>0</td>\n",
              "      <td>0</td>\n",
              "      <td>1.0</td>\n",
              "    </tr>\n",
              "  </tbody>\n",
              "</table>\n",
              "</div>\n",
              "      <button class=\"colab-df-convert\" onclick=\"convertToInteractive('df-0b6edcea-1962-40da-8f98-4db39aa5cf6a')\"\n",
              "              title=\"Convert this dataframe to an interactive table.\"\n",
              "              style=\"display:none;\">\n",
              "        \n",
              "  <svg xmlns=\"http://www.w3.org/2000/svg\" height=\"24px\"viewBox=\"0 0 24 24\"\n",
              "       width=\"24px\">\n",
              "    <path d=\"M0 0h24v24H0V0z\" fill=\"none\"/>\n",
              "    <path d=\"M18.56 5.44l.94 2.06.94-2.06 2.06-.94-2.06-.94-.94-2.06-.94 2.06-2.06.94zm-11 1L8.5 8.5l.94-2.06 2.06-.94-2.06-.94L8.5 2.5l-.94 2.06-2.06.94zm10 10l.94 2.06.94-2.06 2.06-.94-2.06-.94-.94-2.06-.94 2.06-2.06.94z\"/><path d=\"M17.41 7.96l-1.37-1.37c-.4-.4-.92-.59-1.43-.59-.52 0-1.04.2-1.43.59L10.3 9.45l-7.72 7.72c-.78.78-.78 2.05 0 2.83L4 21.41c.39.39.9.59 1.41.59.51 0 1.02-.2 1.41-.59l7.78-7.78 2.81-2.81c.8-.78.8-2.07 0-2.86zM5.41 20L4 18.59l7.72-7.72 1.47 1.35L5.41 20z\"/>\n",
              "  </svg>\n",
              "      </button>\n",
              "      \n",
              "  <style>\n",
              "    .colab-df-container {\n",
              "      display:flex;\n",
              "      flex-wrap:wrap;\n",
              "      gap: 12px;\n",
              "    }\n",
              "\n",
              "    .colab-df-convert {\n",
              "      background-color: #E8F0FE;\n",
              "      border: none;\n",
              "      border-radius: 50%;\n",
              "      cursor: pointer;\n",
              "      display: none;\n",
              "      fill: #1967D2;\n",
              "      height: 32px;\n",
              "      padding: 0 0 0 0;\n",
              "      width: 32px;\n",
              "    }\n",
              "\n",
              "    .colab-df-convert:hover {\n",
              "      background-color: #E2EBFA;\n",
              "      box-shadow: 0px 1px 2px rgba(60, 64, 67, 0.3), 0px 1px 3px 1px rgba(60, 64, 67, 0.15);\n",
              "      fill: #174EA6;\n",
              "    }\n",
              "\n",
              "    [theme=dark] .colab-df-convert {\n",
              "      background-color: #3B4455;\n",
              "      fill: #D2E3FC;\n",
              "    }\n",
              "\n",
              "    [theme=dark] .colab-df-convert:hover {\n",
              "      background-color: #434B5C;\n",
              "      box-shadow: 0px 1px 3px 1px rgba(0, 0, 0, 0.15);\n",
              "      filter: drop-shadow(0px 1px 2px rgba(0, 0, 0, 0.3));\n",
              "      fill: #FFFFFF;\n",
              "    }\n",
              "  </style>\n",
              "\n",
              "      <script>\n",
              "        const buttonEl =\n",
              "          document.querySelector('#df-0b6edcea-1962-40da-8f98-4db39aa5cf6a button.colab-df-convert');\n",
              "        buttonEl.style.display =\n",
              "          google.colab.kernel.accessAllowed ? 'block' : 'none';\n",
              "\n",
              "        async function convertToInteractive(key) {\n",
              "          const element = document.querySelector('#df-0b6edcea-1962-40da-8f98-4db39aa5cf6a');\n",
              "          const dataTable =\n",
              "            await google.colab.kernel.invokeFunction('convertToInteractive',\n",
              "                                                     [key], {});\n",
              "          if (!dataTable) return;\n",
              "\n",
              "          const docLinkHtml = 'Like what you see? Visit the ' +\n",
              "            '<a target=\"_blank\" href=https://colab.research.google.com/notebooks/data_table.ipynb>data table notebook</a>'\n",
              "            + ' to learn more about interactive tables.';\n",
              "          element.innerHTML = '';\n",
              "          dataTable['output_type'] = 'display_data';\n",
              "          await google.colab.output.renderOutput(dataTable, element);\n",
              "          const docLink = document.createElement('div');\n",
              "          docLink.innerHTML = docLinkHtml;\n",
              "          element.appendChild(docLink);\n",
              "        }\n",
              "      </script>\n",
              "    </div>\n",
              "  </div>\n",
              "  "
            ]
          },
          "metadata": {},
          "execution_count": 29
        }
      ]
    },
    {
      "cell_type": "code",
      "execution_count": 30,
      "metadata": {
        "id": "CqW7-N9gbnS2"
      },
      "outputs": [],
      "source": [
        "final_model = HistGradientBoostingClassifier(**best_param).fit(X_train, y_train)"
      ]
    },
    {
      "cell_type": "code",
      "source": [
        "predicted_values = pd.DataFrame(final_model.predict_proba(X_test)[:, 1]).reset_index()\n",
        "predicted_values.rename(columns={'index':'Id', 0:'Probability'}, inplace=True)\n",
        "predicted_values['Id'] = predicted_values['Id'] + 1\n",
        "predicted_values['Id'] = predicted_values['Id'].astype(int)\n",
        "predicted_values"
      ],
      "metadata": {
        "colab": {
          "base_uri": "https://localhost:8080/",
          "height": 424
        },
        "id": "HCdnHVR-KRxc",
        "outputId": "b81f9715-1c28-49d6-db4a-58771f6ace31"
      },
      "execution_count": 31,
      "outputs": [
        {
          "output_type": "execute_result",
          "data": {
            "text/plain": [
              "            Id  Probability\n",
              "0            1     0.074454\n",
              "1            2     0.056855\n",
              "2            3     0.011596\n",
              "3            4     0.077389\n",
              "4            5     0.108095\n",
              "...        ...          ...\n",
              "101498  101499     0.029794\n",
              "101499  101500     0.382336\n",
              "101500  101501     0.005403\n",
              "101501  101502     0.064876\n",
              "101502  101503     0.039107\n",
              "\n",
              "[101503 rows x 2 columns]"
            ],
            "text/html": [
              "\n",
              "  <div id=\"df-0ca53f36-bed8-4aed-bff6-4c810fb0d664\">\n",
              "    <div class=\"colab-df-container\">\n",
              "      <div>\n",
              "<style scoped>\n",
              "    .dataframe tbody tr th:only-of-type {\n",
              "        vertical-align: middle;\n",
              "    }\n",
              "\n",
              "    .dataframe tbody tr th {\n",
              "        vertical-align: top;\n",
              "    }\n",
              "\n",
              "    .dataframe thead th {\n",
              "        text-align: right;\n",
              "    }\n",
              "</style>\n",
              "<table border=\"1\" class=\"dataframe\">\n",
              "  <thead>\n",
              "    <tr style=\"text-align: right;\">\n",
              "      <th></th>\n",
              "      <th>Id</th>\n",
              "      <th>Probability</th>\n",
              "    </tr>\n",
              "  </thead>\n",
              "  <tbody>\n",
              "    <tr>\n",
              "      <th>0</th>\n",
              "      <td>1</td>\n",
              "      <td>0.074454</td>\n",
              "    </tr>\n",
              "    <tr>\n",
              "      <th>1</th>\n",
              "      <td>2</td>\n",
              "      <td>0.056855</td>\n",
              "    </tr>\n",
              "    <tr>\n",
              "      <th>2</th>\n",
              "      <td>3</td>\n",
              "      <td>0.011596</td>\n",
              "    </tr>\n",
              "    <tr>\n",
              "      <th>3</th>\n",
              "      <td>4</td>\n",
              "      <td>0.077389</td>\n",
              "    </tr>\n",
              "    <tr>\n",
              "      <th>4</th>\n",
              "      <td>5</td>\n",
              "      <td>0.108095</td>\n",
              "    </tr>\n",
              "    <tr>\n",
              "      <th>...</th>\n",
              "      <td>...</td>\n",
              "      <td>...</td>\n",
              "    </tr>\n",
              "    <tr>\n",
              "      <th>101498</th>\n",
              "      <td>101499</td>\n",
              "      <td>0.029794</td>\n",
              "    </tr>\n",
              "    <tr>\n",
              "      <th>101499</th>\n",
              "      <td>101500</td>\n",
              "      <td>0.382336</td>\n",
              "    </tr>\n",
              "    <tr>\n",
              "      <th>101500</th>\n",
              "      <td>101501</td>\n",
              "      <td>0.005403</td>\n",
              "    </tr>\n",
              "    <tr>\n",
              "      <th>101501</th>\n",
              "      <td>101502</td>\n",
              "      <td>0.064876</td>\n",
              "    </tr>\n",
              "    <tr>\n",
              "      <th>101502</th>\n",
              "      <td>101503</td>\n",
              "      <td>0.039107</td>\n",
              "    </tr>\n",
              "  </tbody>\n",
              "</table>\n",
              "<p>101503 rows × 2 columns</p>\n",
              "</div>\n",
              "      <button class=\"colab-df-convert\" onclick=\"convertToInteractive('df-0ca53f36-bed8-4aed-bff6-4c810fb0d664')\"\n",
              "              title=\"Convert this dataframe to an interactive table.\"\n",
              "              style=\"display:none;\">\n",
              "        \n",
              "  <svg xmlns=\"http://www.w3.org/2000/svg\" height=\"24px\"viewBox=\"0 0 24 24\"\n",
              "       width=\"24px\">\n",
              "    <path d=\"M0 0h24v24H0V0z\" fill=\"none\"/>\n",
              "    <path d=\"M18.56 5.44l.94 2.06.94-2.06 2.06-.94-2.06-.94-.94-2.06-.94 2.06-2.06.94zm-11 1L8.5 8.5l.94-2.06 2.06-.94-2.06-.94L8.5 2.5l-.94 2.06-2.06.94zm10 10l.94 2.06.94-2.06 2.06-.94-2.06-.94-.94-2.06-.94 2.06-2.06.94z\"/><path d=\"M17.41 7.96l-1.37-1.37c-.4-.4-.92-.59-1.43-.59-.52 0-1.04.2-1.43.59L10.3 9.45l-7.72 7.72c-.78.78-.78 2.05 0 2.83L4 21.41c.39.39.9.59 1.41.59.51 0 1.02-.2 1.41-.59l7.78-7.78 2.81-2.81c.8-.78.8-2.07 0-2.86zM5.41 20L4 18.59l7.72-7.72 1.47 1.35L5.41 20z\"/>\n",
              "  </svg>\n",
              "      </button>\n",
              "      \n",
              "  <style>\n",
              "    .colab-df-container {\n",
              "      display:flex;\n",
              "      flex-wrap:wrap;\n",
              "      gap: 12px;\n",
              "    }\n",
              "\n",
              "    .colab-df-convert {\n",
              "      background-color: #E8F0FE;\n",
              "      border: none;\n",
              "      border-radius: 50%;\n",
              "      cursor: pointer;\n",
              "      display: none;\n",
              "      fill: #1967D2;\n",
              "      height: 32px;\n",
              "      padding: 0 0 0 0;\n",
              "      width: 32px;\n",
              "    }\n",
              "\n",
              "    .colab-df-convert:hover {\n",
              "      background-color: #E2EBFA;\n",
              "      box-shadow: 0px 1px 2px rgba(60, 64, 67, 0.3), 0px 1px 3px 1px rgba(60, 64, 67, 0.15);\n",
              "      fill: #174EA6;\n",
              "    }\n",
              "\n",
              "    [theme=dark] .colab-df-convert {\n",
              "      background-color: #3B4455;\n",
              "      fill: #D2E3FC;\n",
              "    }\n",
              "\n",
              "    [theme=dark] .colab-df-convert:hover {\n",
              "      background-color: #434B5C;\n",
              "      box-shadow: 0px 1px 3px 1px rgba(0, 0, 0, 0.15);\n",
              "      filter: drop-shadow(0px 1px 2px rgba(0, 0, 0, 0.3));\n",
              "      fill: #FFFFFF;\n",
              "    }\n",
              "  </style>\n",
              "\n",
              "      <script>\n",
              "        const buttonEl =\n",
              "          document.querySelector('#df-0ca53f36-bed8-4aed-bff6-4c810fb0d664 button.colab-df-convert');\n",
              "        buttonEl.style.display =\n",
              "          google.colab.kernel.accessAllowed ? 'block' : 'none';\n",
              "\n",
              "        async function convertToInteractive(key) {\n",
              "          const element = document.querySelector('#df-0ca53f36-bed8-4aed-bff6-4c810fb0d664');\n",
              "          const dataTable =\n",
              "            await google.colab.kernel.invokeFunction('convertToInteractive',\n",
              "                                                     [key], {});\n",
              "          if (!dataTable) return;\n",
              "\n",
              "          const docLinkHtml = 'Like what you see? Visit the ' +\n",
              "            '<a target=\"_blank\" href=https://colab.research.google.com/notebooks/data_table.ipynb>data table notebook</a>'\n",
              "            + ' to learn more about interactive tables.';\n",
              "          element.innerHTML = '';\n",
              "          dataTable['output_type'] = 'display_data';\n",
              "          await google.colab.output.renderOutput(dataTable, element);\n",
              "          const docLink = document.createElement('div');\n",
              "          docLink.innerHTML = docLinkHtml;\n",
              "          element.appendChild(docLink);\n",
              "        }\n",
              "      </script>\n",
              "    </div>\n",
              "  </div>\n",
              "  "
            ]
          },
          "metadata": {},
          "execution_count": 31
        }
      ]
    },
    {
      "cell_type": "code",
      "source": [
        "# Exporting results\n",
        "predicted_values.to_csv('predicted_values.csv', index=False, sep=',', decimal='.')"
      ],
      "metadata": {
        "id": "IcJBW-KVMTZP"
      },
      "execution_count": 32,
      "outputs": []
    },
    {
      "cell_type": "markdown",
      "source": [
        "Kaggle returned scores **~0.867** for private score and **~0.861** for public score. It's a good result, considering that the winer got **0.86955**.\n",
        "\n",
        "Maybe we could improve that creating a stack with the top best performers, but if we would do that we will lost the ability of explainability, seen in next topic."
      ],
      "metadata": {
        "id": "irBBe3VFCt9D"
      }
    },
    {
      "cell_type": "markdown",
      "source": [
        "![image.png](data:image/png;base64,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)"
      ],
      "metadata": {
        "id": "zdcyZyeSCqcy"
      }
    },
    {
      "cell_type": "markdown",
      "source": [
        "## Explaining"
      ],
      "metadata": {
        "id": "aRzujr-REu0H"
      }
    },
    {
      "cell_type": "markdown",
      "source": [
        "An important part of analysis is to understand which features the model considered most important for decision making. For this challenge, we are going to use SHAP."
      ],
      "metadata": {
        "id": "36Bnk6SFE2NA"
      }
    },
    {
      "cell_type": "code",
      "source": [],
      "metadata": {
        "id": "RSuMFPAfEwX_"
      },
      "execution_count": null,
      "outputs": []
    }
  ],
  "metadata": {
    "colab": {
      "provenance": [],
      "authorship_tag": "ABX9TyPPytc+EKcQd1D+IdJf0jBr",
      "include_colab_link": true
    },
    "kernelspec": {
      "display_name": "Python 3",
      "name": "python3"
    },
    "language_info": {
      "name": "python"
    }
  },
  "nbformat": 4,
  "nbformat_minor": 0
}