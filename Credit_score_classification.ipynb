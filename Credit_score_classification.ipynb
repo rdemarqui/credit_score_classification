{
  "nbformat": 4,
  "nbformat_minor": 0,
  "metadata": {
    "colab": {
      "provenance": [],
      "authorship_tag": "ABX9TyNYURtN9eUr8uTcGuek3+vf",
      "include_colab_link": true
    },
    "kernelspec": {
      "name": "python3",
      "display_name": "Python 3"
    },
    "language_info": {
      "name": "python"
    }
  },
  "cells": [
    {
      "cell_type": "markdown",
      "metadata": {
        "id": "view-in-github",
        "colab_type": "text"
      },
      "source": [
        "<a href=\"https://colab.research.google.com/github/rdemarqui/credit_score_classification/blob/main/Credit_score_classification.ipynb\" target=\"_parent\"><img src=\"https://colab.research.google.com/assets/colab-badge.svg\" alt=\"Open In Colab\"/></a>"
      ]
    },
    {
      "cell_type": "markdown",
      "source": [
        "# Credit score classification"
      ],
      "metadata": {
        "id": "09xPYRvMK1qj"
      }
    },
    {
      "cell_type": "code",
      "execution_count": 1,
      "metadata": {
        "id": "cgHV9TNsKr74"
      },
      "outputs": [],
      "source": [
        "import os\n",
        "import zipfile\n",
        "import pandas as pd"
      ]
    },
    {
      "cell_type": "code",
      "source": [
        "# Checking current work dir\n",
        "current_dir = os.getcwd()\n",
        "print(current_dir)"
      ],
      "metadata": {
        "colab": {
          "base_uri": "https://localhost:8080/"
        },
        "id": "p8b0_7BFK0lP",
        "outputId": "635f3156-6de3-4a14-ae85-0a36decb2359"
      },
      "execution_count": 2,
      "outputs": [
        {
          "output_type": "stream",
          "name": "stdout",
          "text": [
            "/content\n"
          ]
        }
      ]
    },
    {
      "cell_type": "code",
      "source": [
        "# Downloading file\n",
        "!wget -q https://github.com/rdemarqui/credit_score_classification/raw/main/archive.zip"
      ],
      "metadata": {
        "id": "xSD9yINyMyPd"
      },
      "execution_count": 10,
      "outputs": []
    },
    {
      "cell_type": "code",
      "source": [
        "# Opening datasets\n",
        "zf = zipfile.ZipFile(os.path.join(current_dir, 'archive.zip'))\n",
        "df_train = pd.read_csv(zf.open('train.csv'), low_memory=False)\n",
        "df_test = pd.read_csv(zf.open('train.csv'), low_memory=False)"
      ],
      "metadata": {
        "id": "MF7Q-7SZNNsV"
      },
      "execution_count": 15,
      "outputs": []
    },
    {
      "cell_type": "code",
      "source": [],
      "metadata": {
        "id": "MNnGCXJfO3G2"
      },
      "execution_count": null,
      "outputs": []
    }
  ]
}